{
 "cells": [
  {
   "cell_type": "code",
   "execution_count": null,
   "metadata": {},
   "outputs": [],
   "source": [
    "import unittest\n",
    "\n",
    "\n",
    "def add(a, b):\n",
    "    return a + b\n",
    "\n",
    "\n",
    "class TestNotebook(unittest.TestCase):\n",
    "\n",
    "    def test_add(self):\n",
    "        self.assertEqual(add(2, 2), 4)\n",
    "\n",
    "\n",
    "unittest.main(argv=[\"\"], verbosity=2, exit=False)"
   ]
  },
  {
   "cell_type": "code",
   "execution_count": null,
   "metadata": {},
   "outputs": [],
   "source": [
    "def add3(a, b, c):\n",
    "    return a + b + c"
   ]
  },
  {
   "cell_type": "code",
   "execution_count": null,
   "metadata": {},
   "outputs": [],
   "source": [
    "import unittest\n",
    "\n",
    "class TestNotebook3(unittest.TestCase):\n",
    "\n",
    "    def test_add3(self):\n",
    "        self.assertEqual(add3(2, 2, 2), 6)\n",
    "\n",
    "unittest.main(argv=[\"\", \"TestNotebook3.test_add3\"], verbosity=2, exit=False)"
   ]
  },
  {
   "cell_type": "code",
   "execution_count": null,
   "metadata": {},
   "outputs": [],
   "source": [
    "%%writefile add6.py\n",
    "\n",
    "def sum6(a, b, c, d, e, f):\n",
    "    return a + b + c + d + e + f"
   ]
  },
  {
   "cell_type": "code",
   "execution_count": null,
   "metadata": {},
   "outputs": [],
   "source": [
    "import unittest\n",
    "\n",
    "import sys\n",
    "import importlib\n",
    "\n",
    "sys.dont_write_bytecode = True\n",
    "\n",
    "import add6\n",
    "importlib.reload(add6)\n",
    "from add6 import sum6\n",
    "\n",
    "class TestNotebook6(unittest.TestCase):\n",
    "\n",
    "    def test_sum6(self):\n",
    "        self.assertEqual(sum6(1, 2, 3, 4, 5, 6), 21)\n",
    "\n",
    "unittest.main(argv=[\"\", \"TestNotebook6.test_sum6\"], verbosity=2, exit=False)\n"
   ]
  }
 ],
 "metadata": {
  "kernelspec": {
   "display_name": ".venv",
   "language": "python",
   "name": "python3"
  },
  "language_info": {
   "codemirror_mode": {
    "name": "ipython",
    "version": 3
   },
   "file_extension": ".py",
   "mimetype": "text/x-python",
   "name": "python",
   "nbconvert_exporter": "python",
   "pygments_lexer": "ipython3",
   "version": "3.12.3"
  }
 },
 "nbformat": 4,
 "nbformat_minor": 2
}
