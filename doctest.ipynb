{
 "cells": [
  {
   "cell_type": "code",
   "execution_count": null,
   "metadata": {},
   "outputs": [],
   "source": [
    "def add(a, b):\n",
    "    \"\"\"\n",
    "    >>> add(1, 2)\n",
    "    3\n",
    "    \"\"\"\n",
    "\n",
    "    return a + b\n",
    "\n",
    "if __name__ == \"__main__\":\n",
    "    import doctest\n",
    "    doctest.testmod(verbose=True)"
   ]
  },
  {
   "cell_type": "code",
   "execution_count": null,
   "metadata": {},
   "outputs": [],
   "source": [
    "def add3(a, b, c):\n",
    "    return a + b + c"
   ]
  },
  {
   "cell_type": "code",
   "execution_count": null,
   "metadata": {},
   "outputs": [],
   "source": [
    "import doctest\n",
    "\n",
    "teststr = \"\"\"\n",
    ">>> add3(1, 2, 3)\n",
    "6\n",
    "\"\"\"\n",
    "\n",
    "doctest.run_docstring_examples(teststr, globals(), verbose=True)"
   ]
  },
  {
   "cell_type": "code",
   "execution_count": null,
   "metadata": {},
   "outputs": [],
   "source": [
    "%%writefile add5.py\n",
    "\n",
    "def sum5(a, b, c, d, e):\n",
    "    return a + b + c + d + e"
   ]
  },
  {
   "cell_type": "code",
   "execution_count": null,
   "metadata": {},
   "outputs": [],
   "source": [
    "import doctest\n",
    "import sys\n",
    "import importlib\n",
    "\n",
    "sys.dont_write_bytecode = True\n",
    "\n",
    "import add5\n",
    "importlib.reload(add5)\n",
    "from add5 import sum5\n",
    "\n",
    "\n",
    "teststr = \"\"\"\n",
    ">>> sum5(1, 2, 3, 4, 5)\n",
    "15\n",
    "\"\"\"\n",
    "\n",
    "doctest.run_docstring_examples(teststr, globals(), verbose=True)\n"
   ]
  }
 ],
 "metadata": {
  "kernelspec": {
   "display_name": ".venv",
   "language": "python",
   "name": "python3"
  },
  "language_info": {
   "codemirror_mode": {
    "name": "ipython",
    "version": 3
   },
   "file_extension": ".py",
   "mimetype": "text/x-python",
   "name": "python",
   "nbconvert_exporter": "python",
   "pygments_lexer": "ipython3",
   "version": "3.12.3"
  }
 },
 "nbformat": 4,
 "nbformat_minor": 2
}
